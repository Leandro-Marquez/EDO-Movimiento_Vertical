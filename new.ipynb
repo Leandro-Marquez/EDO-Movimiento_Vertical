{
 "cells": [
  {
   "cell_type": "code",
   "execution_count": null,
   "id": "0f9dd7c5",
   "metadata": {
    "vscode": {
     "languageId": "plaintext"
    }
   },
   "outputs": [],
   "source": [
    "import numpy as np\n",
    "import matplotlib.pyplot as plt\n",
    "\n",
    "# Parámetros\n",
    "g = 32      # ft/s^2\n",
    "h0 = 800    # altura inicial granada\n",
    "target_h = 400\n",
    "delay = 2   # segundos\n",
    "\n",
    "# --- Cálculo del tiempo de encuentro ---\n",
    "t_meet = np.sqrt((h0 - target_h) / (0.5 * g))\n",
    "v0 = (target_h + 0.5*g*(t_meet - delay)**2) / (t_meet - delay)\n",
    "\n",
    "print(f\"Tiempo de encuentro: {t_meet:.2f} s\")\n",
    "print(f\"Velocidad inicial necesaria: {v0:.2f} ft/s\")\n",
    "\n",
    "# --- Simulación de trayectorias ---\n",
    "t_vals = np.linspace(0, t_meet+1, 200)\n",
    "y_granada = h0 - 0.5*g*t_vals**2\n",
    "y_proyectil = np.where(t_vals >= delay,\n",
    "                       v0*(t_vals-delay) - 0.5*g*(t_vals-delay)**2,\n",
    "                       np.nan)\n",
    "\n",
    "plt.figure(figsize=(8,5))\n",
    "plt.plot(t_vals, y_granada, label=\"Granada\")\n",
    "plt.plot(t_vals, y_proyectil, label=\"Proyectil\")\n",
    "plt.axhline(target_h, color=\"gray\", linestyle=\"--\", label=\"Altura 400 ft\")\n",
    "plt.axvline(t_meet, color=\"red\", linestyle=\"--\", label=f\"Encuentro t={t_meet:.2f}s\")\n",
    "plt.xlabel(\"Tiempo (s)\")\n",
    "plt.ylabel(\"Altura (ft)\")\n",
    "plt.title(f\"v0 necesaria = {v0:.2f} ft/s\")\n",
    "plt.legend()\n",
    "plt.grid(True)\n",
    "plt.show()\n"
   ]
  }
 ],
 "metadata": {
  "language_info": {
   "name": "python"
  }
 },
 "nbformat": 4,
 "nbformat_minor": 5
}
